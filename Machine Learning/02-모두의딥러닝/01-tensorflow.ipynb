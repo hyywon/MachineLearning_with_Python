{
 "cells": [
  {
   "cell_type": "code",
   "execution_count": 1,
   "metadata": {},
   "outputs": [
    {
     "data": {
      "text/plain": [
       "'2.4.0'"
      ]
     },
     "execution_count": 1,
     "metadata": {},
     "output_type": "execute_result"
    }
   ],
   "source": [
    "import tensorflow as tf\n",
    "tf.__version__"
   ]
  },
  {
   "cell_type": "code",
   "execution_count": 2,
   "metadata": {},
   "outputs": [
    {
     "name": "stdout",
     "output_type": "stream",
     "text": [
      "tf.Tensor(b'Hello, Tensorflow!', shape=(), dtype=string)\n"
     ]
    }
   ],
   "source": [
    "hello = tf.constant(\"Hello, Tensorflow!\")\n",
    "\n",
    "@tf.function\n",
    "def helloprint():\n",
    "    return hello\n",
    "\n",
    "out_hello = helloprint()\n",
    "print(out_hello)"
   ]
  },
  {
   "cell_type": "markdown",
   "metadata": {},
   "source": [
    "## Computational Graph"
   ]
  },
  {
   "cell_type": "code",
   "execution_count": 3,
   "metadata": {},
   "outputs": [
    {
     "name": "stdout",
     "output_type": "stream",
     "text": [
      "tf.Tensor(7.0, shape=(), dtype=float32)\n"
     ]
    }
   ],
   "source": [
    "# build graph using TensorFlow operations\n",
    "node1 = tf.constant(3.0, tf.float32)\n",
    "node2 = tf.constant(4.0)\n",
    "\n",
    "# feed data and run graph\n",
    "@tf.function\n",
    "def foward():\n",
    "    return node1 + node2\n",
    "\n",
    "# update variables in the graph\n",
    "out_node = foward()\n",
    "print(out_node)"
   ]
  },
  {
   "cell_type": "markdown",
   "metadata": {},
   "source": [
    "## Placeholder"
   ]
  },
  {
   "cell_type": "markdown",
   "metadata": {},
   "source": [
    "*TensorFlow 2.0에서는 placeholder 대신 @tf.function을 통해 함수 정의함*"
   ]
  },
  {
   "cell_type": "code",
   "execution_count": 4,
   "metadata": {},
   "outputs": [
    {
     "name": "stdout",
     "output_type": "stream",
     "text": [
      "tf.Tensor(3, shape=(), dtype=int32)\n"
     ]
    }
   ],
   "source": [
    "@tf.function\n",
    "def add_node(a,b):\n",
    "    return a + b\n",
    "\n",
    "a = tf.constant(1)\n",
    "b = tf.constant(2)\n",
    "print(add_node(a,b))"
   ]
  },
  {
   "cell_type": "markdown",
   "metadata": {},
   "source": [
    "> 간단한 사칙연산은 tensorflow 내장 연산자 이용\n",
    "\n",
    "* tf.add : 덧셈\n",
    "* tf.subtract : 뺄셈\n",
    "* tf.multiply : 곱셈\n",
    "* tf.divide : 나눗셈\n",
    "* tf.pow : n제곱\n",
    "* tf.negative : 음수\n",
    "* tf.abs : 절대값\n",
    "* tf.sign : 부호\n",
    "* tf.round : 반올림\n",
    "* tf.math.ceil : 올림\n",
    "* tf.floor : 내림\n",
    "* tf.math.square : 제곱\n",
    "* tf.math.sqrt : 제곱근\n",
    "* tf.maximum : 두 텐서의 각 원소에서 최댓값\n",
    "* tf.minimum : 두 텐서의 각 원소에서 최솟값\n",
    "* tf.cumsum : 누적합\n",
    "* tf.math.cumprod : 누적곱"
   ]
  }
 ],
 "metadata": {
  "kernelspec": {
   "display_name": "Python 3",
   "language": "python",
   "name": "python3"
  },
  "language_info": {
   "codemirror_mode": {
    "name": "ipython",
    "version": 3
   },
   "file_extension": ".py",
   "mimetype": "text/x-python",
   "name": "python",
   "nbconvert_exporter": "python",
   "pygments_lexer": "ipython3",
   "version": "3.8.3"
  }
 },
 "nbformat": 4,
 "nbformat_minor": 4
}
